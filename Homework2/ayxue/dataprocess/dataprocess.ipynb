{
 "cells": [
  {
   "cell_type": "code",
   "execution_count": 1,
   "metadata": {},
   "outputs": [],
   "source": [
    "import pandas as pd\n",
    "import math"
   ]
  },
  {
   "cell_type": "code",
   "execution_count": 2,
   "metadata": {},
   "outputs": [
    {
     "name": "stderr",
     "output_type": "stream",
     "text": [
      "/Users/austin/opt/anaconda3/lib/python3.8/site-packages/IPython/core/interactiveshell.py:3071: DtypeWarning: Columns (4,6,31,33,61,62,63,76,79,90,92,94,96,114,115,121) have mixed types.Specify dtype option on import or set low_memory=False.\n",
      "  has_raised = await self.run_ast_nodes(code_ast.body, cell_name,\n"
     ]
    }
   ],
   "source": [
    "cereal_df = pd.read_csv(\"globalterrorismdb_0718dist.csv\", encoding = \"ISO-8859-1\")"
   ]
  },
  {
   "cell_type": "code",
   "execution_count": 72,
   "metadata": {},
   "outputs": [],
   "source": [
    "post_year = 2017\n",
    "month_dict = {}\n",
    "gname_occ = {}\n",
    "for i, row in cereal_df.iterrows():\n",
    "    year = row['iyear']\n",
    "    month = row['imonth']\n",
    "    gname = row['gname']\n",
    "    if year >= post_year and gname != 'Unknown':\n",
    "        lat = row['latitude']\n",
    "        if not math.isnan(lat):\n",
    "            day = row['iday']\n",
    "            if gname not in gname_occ:\n",
    "                gname_occ[gname] = 0\n",
    "            gname_occ[gname] += 1\n",
    "\n",
    "            month_key = str(year) + '-' + str(month).zfill(2) + '-02'\n",
    "            if month_key not in month_dict:\n",
    "                month_dict[month_key] = {}\n",
    "            if gname not in month_dict[month_key]:\n",
    "                month_dict[month_key][gname] = 0\n",
    "            month_dict[month_key][gname] += 1"
   ]
  },
  {
   "cell_type": "code",
   "execution_count": 73,
   "metadata": {},
   "outputs": [],
   "source": [
    "_gname_occ = {k: v for k, v in sorted(gname_occ.items(), key=lambda item: item[1], reverse=True)}"
   ]
  },
  {
   "cell_type": "code",
   "execution_count": 74,
   "metadata": {},
   "outputs": [],
   "source": [
    "i = 0\n",
    "topK = 10\n",
    "topK_groups = []\n",
    "for k, v in _gname_occ.items():\n",
    "    i += 1\n",
    "    if ',' in k:\n",
    "        print('need to handle , in group name')\n",
    "    topK_groups.append(k)\n",
    "    if i >= topK:\n",
    "        break"
   ]
  },
  {
   "cell_type": "code",
   "execution_count": 75,
   "metadata": {},
   "outputs": [
    {
     "data": {
      "text/plain": [
       "['Islamic State of Iraq and the Levant (ISIL)',\n",
       " 'Taliban',\n",
       " 'Al-Shabaab',\n",
       " \"New People's Army (NPA)\",\n",
       " 'Boko Haram',\n",
       " 'Maoists',\n",
       " 'Khorasan Chapter of the Islamic State',\n",
       " \"Kurdistan Workers' Party (PKK)\",\n",
       " 'Houthi extremists (Ansar Allah)',\n",
       " 'Sinai Province of the Islamic State']"
      ]
     },
     "execution_count": 75,
     "metadata": {},
     "output_type": "execute_result"
    }
   ],
   "source": [
    "topK_groups"
   ]
  },
  {
   "cell_type": "code",
   "execution_count": 76,
   "metadata": {},
   "outputs": [],
   "source": [
    "with open('../month_gname.csv', 'w') as f:\n",
    "    l = 'date'\n",
    "    for gname in topK_groups:\n",
    "        if ',' in gname:\n",
    "            gname = '\"' + gname + '\"'\n",
    "\n",
    "        l += ',' + gname\n",
    "    f.write(l + '\\n')\n",
    "    \n",
    "    for date in month_dict:\n",
    "        l = date\n",
    "        for gname in topK_groups:\n",
    "            if gname in month_dict[date]:\n",
    "                l += ',' + str(month_dict[date][gname])\n",
    "            else:\n",
    "                l += ',0'\n",
    "        f.write(l + '\\n')"
   ]
  },
  {
   "cell_type": "code",
   "execution_count": 69,
   "metadata": {},
   "outputs": [],
   "source": [
    "date_coord = []\n",
    "for i, row in cereal_df.iterrows():\n",
    "    year = row['iyear']\n",
    "    month = row['imonth']\n",
    "    gname = row['gname']\n",
    "    if year >= post_year and gname in topK_groups:\n",
    "        day = row['iday']\n",
    "        lat = row['latitude']\n",
    "        lon = row['longitude']\n",
    "        kill = row['nkill']\n",
    "        attype = row['attacktype1_txt']\n",
    "        if not math.isnan(lat):\n",
    "            if math.isnan(kill):\n",
    "                kill = 0\n",
    "                \n",
    "            date = str(year) + '-' + str(month).zfill(2) + '-' + str(day).zfill(2)\n",
    "            l = date + ',' + gname + ',' + str(lon) + ',' + str(lat) + ',' + str(kill) + ',' + str(attype) +'\\n'\n",
    "            date_coord.append(l)"
   ]
  },
  {
   "cell_type": "code",
   "execution_count": 71,
   "metadata": {},
   "outputs": [],
   "source": [
    "with open('../date_coord.csv', 'w') as f:\n",
    "    l = 'date,gname,longitude,latitude,value,attype\\n'\n",
    "    f.write(l)\n",
    "    for l in date_coord:\n",
    "        f.write(l)"
   ]
  },
  {
   "cell_type": "code",
   "execution_count": 66,
   "metadata": {},
   "outputs": [],
   "source": [
    "gname_attype = {}\n",
    "attype_occ = {}\n",
    "for i, row in cereal_df.iterrows():\n",
    "    year = row['iyear']\n",
    "    month = row['imonth']\n",
    "    gname = row['gname']\n",
    "    if year >= post_year and gname in topK_groups:\n",
    "        day = row['iday']\n",
    "        lat = row['latitude']\n",
    "        attype = row['attacktype1_txt']\n",
    "        if not math.isnan(lat):\n",
    "            day = row['iday']\n",
    "            if attype not in attype_occ:\n",
    "                attype_occ[attype] = 0\n",
    "            attype_occ[attype] += 1\n",
    "\n",
    "            if gname not in gname_attype:\n",
    "                gname_attype[gname] = {}\n",
    "            if attype not in gname_attype[gname]:\n",
    "                gname_attype[gname][attype] = 0\n",
    "            gname_attype[gname][attype] += 1"
   ]
  },
  {
   "cell_type": "code",
   "execution_count": 67,
   "metadata": {},
   "outputs": [],
   "source": [
    "with open('../gname_attype.csv', 'w') as f:\n",
    "    l = 'gname,attype,value\\n'\n",
    "    f.write(l)\n",
    "    for gname in topK_groups:\n",
    "        if ',' in gname:\n",
    "            gname = '\"' + gname + '\"'        \n",
    "        for attype in sorted(set(attype_occ)):\n",
    "            l = gname + ',' + attype\n",
    "            if attype in gname_attype[gname]:\n",
    "                l += ',' + str(gname_attype[gname][attype])\n",
    "            else:\n",
    "                l += ',0'\n",
    "            f.write(l + '\\n')"
   ]
  },
  {
   "cell_type": "code",
   "execution_count": 68,
   "metadata": {},
   "outputs": [
    {
     "data": {
      "text/plain": [
       "['Armed Assault',\n",
       " 'Assassination',\n",
       " 'Bombing/Explosion',\n",
       " 'Facility/Infrastructure Attack',\n",
       " 'Hijacking',\n",
       " 'Hostage Taking (Barricade Incident)',\n",
       " 'Hostage Taking (Kidnapping)',\n",
       " 'Unarmed Assault',\n",
       " 'Unknown']"
      ]
     },
     "execution_count": 68,
     "metadata": {},
     "output_type": "execute_result"
    }
   ],
   "source": [
    "sorted(set(attype_occ))"
   ]
  },
  {
   "cell_type": "code",
   "execution_count": null,
   "metadata": {},
   "outputs": [],
   "source": []
  }
 ],
 "metadata": {
  "kernelspec": {
   "display_name": "Python 3",
   "language": "python",
   "name": "python3"
  },
  "language_info": {
   "codemirror_mode": {
    "name": "ipython",
    "version": 3
   },
   "file_extension": ".py",
   "mimetype": "text/x-python",
   "name": "python",
   "nbconvert_exporter": "python",
   "pygments_lexer": "ipython3",
   "version": "3.8.3"
  }
 },
 "nbformat": 4,
 "nbformat_minor": 4
}
