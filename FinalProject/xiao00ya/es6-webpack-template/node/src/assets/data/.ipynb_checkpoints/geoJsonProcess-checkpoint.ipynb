{
 "cells": [
  {
   "cell_type": "code",
   "execution_count": 1,
   "metadata": {},
   "outputs": [],
   "source": [
    "import pandas as pd\n",
    "import json\n",
    "import random \n",
    "import math"
   ]
  },
  {
   "cell_type": "code",
   "execution_count": 2,
   "metadata": {},
   "outputs": [
    {
     "data": {
      "text/plain": [
       "16"
      ]
     },
     "execution_count": 2,
     "metadata": {},
     "output_type": "execute_result"
    }
   ],
   "source": [
    "random.randint(1, 100)"
   ]
  },
  {
   "cell_type": "code",
   "execution_count": 3,
   "metadata": {},
   "outputs": [],
   "source": [
    "with open(\"/Users/xiao0_0yang/Documents/UCDavisWinter2021/ECS272-Winter2021/Homework2/Templates/es6-webpack-template/node/src/assets/data/san-francisco.json\") as f:\n",
    "    sf = json.load(f)"
   ]
  },
  {
   "cell_type": "code",
   "execution_count": 4,
   "metadata": {},
   "outputs": [],
   "source": [
    "for district in sf[\"features\"]:\n",
    "    district[\"properties\"]\n",
    "    district[\"properties\"][\"WEAPON_LAWS\"] = random.randint(1, 100)"
   ]
  },
  {
   "cell_type": "code",
   "execution_count": 22,
   "metadata": {},
   "outputs": [
    {
     "data": {
      "text/plain": [
       "{'geometry': {'geometries': [{'type': 'Polygon',\n",
       "    'coordinates': [[[-122.391701, 37.794113],\n",
       "      [-122.39198, 37.793906],\n",
       "      [-122.391614, 37.793571],\n",
       "      [-122.391714, 37.793459],\n",
       "      [-122.388816, 37.791005],\n",
       "      [-122.388932, 37.790919],\n",
       "      [-122.388616, 37.790348],\n",
       "      [-122.388076, 37.790518],\n",
       "      [-122.388375, 37.790334],\n",
       "      [-122.388225, 37.790032],\n",
       "      [-122.385852, 37.790951],\n",
       "      [-122.385496, 37.790559],\n",
       "      [-122.387589, 37.789838],\n",
       "      [-122.387289, 37.789347],\n",
       "      [-122.385303, 37.789838],\n",
       "      [-122.38512, 37.789313],\n",
       "      [-122.387174, 37.788807],\n",
       "      [-122.387032, 37.788255],\n",
       "      [-122.385261, 37.788537],\n",
       "      [-122.385136, 37.788156],\n",
       "      [-122.38739, 37.787736],\n",
       "      [-122.387415, 37.787269],\n",
       "      [-122.3845, 37.787437],\n",
       "      [-122.384342, 37.785728],\n",
       "      [-122.387577, 37.785485],\n",
       "      [-122.38765, 37.784929],\n",
       "      [-122.385546, 37.785009],\n",
       "      [-122.385455, 37.784711],\n",
       "      [-122.387477, 37.784493],\n",
       "      [-122.387691, 37.784412],\n",
       "      [-122.387722, 37.783928],\n",
       "      [-122.385271, 37.784049],\n",
       "      [-122.38525, 37.78379],\n",
       "      [-122.38572, 37.783774],\n",
       "      [-122.38573, 37.78354],\n",
       "      [-122.386088, 37.783435],\n",
       "      [-122.387732, 37.783282],\n",
       "      [-122.387773, 37.782911],\n",
       "      [-122.388426, 37.781801],\n",
       "      [-122.388189, 37.784771],\n",
       "      [-122.388504, 37.785348],\n",
       "      [-122.389694, 37.786243],\n",
       "      [-122.39141, 37.785103],\n",
       "      [-122.39146, 37.7855],\n",
       "      [-122.393512, 37.784564],\n",
       "      [-122.394567, 37.783783],\n",
       "      [-122.396711, 37.785549],\n",
       "      [-122.398941, 37.783785],\n",
       "      [-122.400955, 37.785389],\n",
       "      [-122.399523, 37.786631],\n",
       "      [-122.39999, 37.787004],\n",
       "      [-122.401497, 37.785824],\n",
       "      [-122.403374, 37.787401],\n",
       "      [-122.403427, 37.787676],\n",
       "      [-122.393875, 37.795248],\n",
       "      [-122.392429, 37.793835],\n",
       "      [-122.391701, 37.794113]]]}],\n",
       "  'type': 'GeometryCollection'},\n",
       " 'id': '94105',\n",
       " 'properties': {'id': 94105, 'neighborhood': 'Rincon Hill', 'WEAPON_LAWS': 72},\n",
       " 'type': 'Feature'}"
      ]
     },
     "execution_count": 22,
     "metadata": {},
     "output_type": "execute_result"
    }
   ],
   "source": [
    "sf[\"features\"][0]"
   ]
  },
  {
   "cell_type": "code",
   "execution_count": 23,
   "metadata": {},
   "outputs": [],
   "source": [
    "with open(\"/Users/xiao0_0yang/Documents/UCDavisWinter2021/ECS272-Winter2021/Homework2/Templates/es6-webpack-template/node/src/assets/data/san-francisco-test.json\", 'w') as f:\n",
    "    json.dump(sf, f)"
   ]
  },
  {
   "cell_type": "code",
   "execution_count": 6,
   "metadata": {},
   "outputs": [],
   "source": [
    "# parse"
   ]
  },
  {
   "cell_type": "code",
   "execution_count": 5,
   "metadata": {},
   "outputs": [],
   "source": [
    "crime_type_mapping = pd.read_csv(\"/Users/xiao0_0yang/Documents/UCDavisWinter2021/ECS272-Winter2021/Homework2/Templates/es6-webpack-template/node/src/assets/data/crimeMapping - Sheet1.csv\")"
   ]
  },
  {
   "cell_type": "code",
   "execution_count": 6,
   "metadata": {},
   "outputs": [],
   "source": [
    "crime_type_mapping[\"fineTypes\"]\n",
    "crime_type_mapping[\"coarseType\"]\n",
    "type_mapping = {}\n",
    "for idx, originalType in enumerate(crime_type_mapping[\"fineTypes\"]):\n",
    "    type_mapping[originalType] = crime_type_mapping[\"coarseType\"][idx]"
   ]
  },
  {
   "cell_type": "code",
   "execution_count": 7,
   "metadata": {
    "scrolled": true
   },
   "outputs": [],
   "source": [
    "# type_mapping"
   ]
  },
  {
   "cell_type": "code",
   "execution_count": 8,
   "metadata": {},
   "outputs": [],
   "source": [
    "table = pd.read_csv(\"/Users/xiao0_0yang/Documents/UCDavisWinter2021/ECS272-Winter2021/Homework2/Templates/es6-webpack-template/node/src/assets/data/sf_crime_zip.csv\")"
   ]
  },
  {
   "cell_type": "code",
   "execution_count": 9,
   "metadata": {},
   "outputs": [],
   "source": [
    "filtered_coarse_categories = []\n",
    "filtered_categories = []\n",
    "filtered_zips = []\n",
    "for i in range(len(table)):\n",
    "    if math.isnan(table[\"zip\"][i]) == False:\n",
    "        filtered_categories.append(table[\"Category\"][i])\n",
    "        filtered_zips.append(table[\"zip\"][i])\n",
    "        filtered_coarse_categories = [type_mapping[table[\"Category\"][i]]]\n",
    "#     else:\n",
    "#         pritn()"
   ]
  },
  {
   "cell_type": "code",
   "execution_count": 10,
   "metadata": {},
   "outputs": [
    {
     "data": {
      "text/plain": [
       "True"
      ]
     },
     "execution_count": 10,
     "metadata": {},
     "output_type": "execute_result"
    }
   ],
   "source": [
    "len(filtered_categories) == len(filtered_categories) == len(filtered_zips)"
   ]
  },
  {
   "cell_type": "code",
   "execution_count": 11,
   "metadata": {},
   "outputs": [],
   "source": [
    "# table\n",
    "base = {\"property crimes\":0, \"personal crimes\":0, \"statutory crimes\":0}\n",
    "# for coarse_type in crime_type_mapping:\n",
    "#     base = {}"
   ]
  },
  {
   "cell_type": "code",
   "execution_count": null,
   "metadata": {},
   "outputs": [],
   "source": [
    "from collections import Counter\n",
    "Counter(table[\"zip\"]).keys()"
   ]
  },
  {
   "cell_type": "code",
   "execution_count": null,
   "metadata": {},
   "outputs": [],
   "source": [
    "zip_count = {}\n",
    "for i in range(len(filtered_coarse_categories)):\n",
    "    coarse_type = filtered_coarse_categories[i]\n",
    "    if coarse_type in base.keys():\n",
    "        if coarse_type in zip_count:\n",
    "            zip_count[coarse_type] += 1\n",
    "        else:\n",
    "            zip_count[coarse_type] = 0\n"
   ]
  },
  {
   "cell_type": "code",
   "execution_count": null,
   "metadata": {},
   "outputs": [],
   "source": []
  }
 ],
 "metadata": {
  "kernelspec": {
   "display_name": "Python 3",
   "language": "python",
   "name": "python3"
  },
  "language_info": {
   "codemirror_mode": {
    "name": "ipython",
    "version": 3
   },
   "file_extension": ".py",
   "mimetype": "text/x-python",
   "name": "python",
   "nbconvert_exporter": "python",
   "pygments_lexer": "ipython3",
   "version": "3.6.8"
  }
 },
 "nbformat": 4,
 "nbformat_minor": 2
}
